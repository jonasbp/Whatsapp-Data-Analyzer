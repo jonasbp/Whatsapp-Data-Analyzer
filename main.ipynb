{
 "cells": [
  {
   "cell_type": "code",
   "execution_count": null,
   "metadata": {},
   "outputs": [],
   "source": [
    "import pandas as pd\n",
    "import re\n",
    "with open(\"data/conversa.txt\", \"r\", encoding=\"utf-8\") as file:\n",
    "    lines = file.readlines()\n",
    "df = pd.DataFrame(lines, columns=[\"Mensagens_Enviadas\"])\n",
    "\n",
    "df['Nome_Completo'] = df['Mensagens_Enviadas'].str.extract(r'\\]\\s(.*?):')\n",
    "df_consolido = df.groupby('Nome_Completo').count()\n",
    "df_consolido = df_consolido.sort_values(by=['Mensagens_Enviadas'], ascending=False)\n",
    "df_consolido[\"Porcentagem\"] = df_consolido[\"Mensagens_Enviadas\"] / df_consolido[\"Mensagens_Enviadas\"].sum() * 100\n",
    "print(df_consolido.head(10))\n",
    "\n",
    "#Gerar um grafico\n",
    "import matplotlib.pyplot as plt\n",
    "df_consolido.head(10).plot(kind='bar', y='Porcentagem', figsize=(10,5))\n",
    "plt.show()\n",
    "\n"
   ]
  },
  {
   "cell_type": "code",
   "execution_count": null,
   "metadata": {},
   "outputs": [],
   "source": [
    "#Pegar o horário das mensagens\n",
    "df[\"Horario\"] = df[\"Mensagens_Enviadas\"].str.extract(r\"(\\d{2}:\\d{2})\")\n",
    "print(\"Horários específicos mais utilizados\")\n",
    "print(df[\"Horario\"].value_counts().head())\n",
    "\n",
    "#Separar por intervalo de horas\n",
    "df[\"Horario\"] = pd.to_datetime(df[\"Horario\"], format=\"%H:%M\")\n",
    "df[\"Hora\"] = df[\"Horario\"].dt.hour\n",
    "print(df[\"Hora\"].value_counts().head())\n",
    "\n",
    "#Faça um grafico com os horas mais utilizados\n",
    "import matplotlib.pyplot as plt\n",
    "plt.style.use(\"ggplot\")\n",
    "df[\"Hora\"].value_counts().plot.bar(title=\"Horas mais utilizadas\")\n",
    "plt.xlabel(\"Horas\")\n",
    "plt.ylabel(\"Total de mensagens\")\n",
    "plt.show()"
   ]
  },
  {
   "cell_type": "code",
   "execution_count": null,
   "metadata": {},
   "outputs": [],
   "source": [
    "padrao = r'\\[(.*?)\\] (.*?): (.*)'\n",
    "\n",
    "# Use str.extract para extrair as mensagens e criar uma nova coluna\n",
    "df['Mensagem_Extraida'] = df['Mensagens_Enviadas'].str.extract(padrao)[2]\n",
    "\n",
    "# Pegar palavras mais frequentes\n",
    "palavras = df[\"Mensagem_Extraida\"].str.cat(sep=\" \")\n",
    "palavras = re.findall(r'\\w+', palavras.lower())\n",
    "palavras = pd.Series(palavras)\n",
    "\n",
    "#Excluir palavras com menos de 3 caracteres\n",
    "palavras = palavras[palavras.str.len() > 5]\n",
    "\n",
    "#Retirar palavras específicas\n",
    "remover_palavras = [\"figurinha\", \"omitida\",\"omitida\" \"imagem\", \"ocultada\",\"ocultado\",\"kkkkkkkk\",\"kkkkkkk\",\"kkkkkk\",\"kkkkkkkkk\",\"kkkkkkkkkk\",\"kkkkkkk\",\"kkkkkkkk\",\"kkkkkkkkkkk\",\"kkkkkkkkkkkk\",\"imagem\",\"kakakakakaka\",\"kakaka\",\"kakakaka\",\"kkkkkkkkkkkkk\",\"huahuahuahua\",\"hahahaha\",\"hahaha\",\"kakakak\",\"hahahahaha\",\"omitido\",\"kakakakakkaka\"]\n",
    "palavras = palavras[~palavras.isin(remover_palavras)]\n",
    "print(\"Paravras mais utilizadas\")\n",
    "print(palavras.value_counts().head(20))\n",
    "\n"
   ]
  }
 ],
 "metadata": {
  "kernelspec": {
   "display_name": ".venv",
   "language": "python",
   "name": "python3"
  },
  "language_info": {
   "codemirror_mode": {
    "name": "ipython",
    "version": 3
   },
   "file_extension": ".py",
   "mimetype": "text/x-python",
   "name": "python",
   "nbconvert_exporter": "python",
   "pygments_lexer": "ipython3",
   "version": "3.10.9"
  },
  "orig_nbformat": 4
 },
 "nbformat": 4,
 "nbformat_minor": 2
}
